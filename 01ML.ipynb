{
  "nbformat": 4,
  "nbformat_minor": 0,
  "metadata": {
    "colab": {
      "provenance": [],
      "toc_visible": true,
      "authorship_tag": "ABX9TyN6wSBcoI75EIHbgdOHzQma",
      "include_colab_link": true
    },
    "kernelspec": {
      "name": "python3",
      "display_name": "Python 3"
    },
    "language_info": {
      "name": "python"
    }
  },
  "cells": [
    {
      "cell_type": "markdown",
      "metadata": {
        "id": "view-in-github",
        "colab_type": "text"
      },
      "source": [
        "<a href=\"https://colab.research.google.com/github/rajnishspandey/MachineLearning/blob/main/01ML.ipynb\" target=\"_parent\"><img src=\"https://colab.research.google.com/assets/colab-badge.svg\" alt=\"Open In Colab\"/></a>"
      ]
    },
    {
      "cell_type": "code",
      "execution_count": 2,
      "metadata": {
        "colab": {
          "base_uri": "https://localhost:8080/"
        },
        "id": "RbTwxfMhzGxY",
        "outputId": "bb085701-987e-4921-e717-63307c81bfa4"
      },
      "outputs": [
        {
          "output_type": "stream",
          "name": "stdout",
          "text": [
            "hello\n"
          ]
        }
      ],
      "source": [
        "print(\"hello\")"
      ]
    },
    {
      "cell_type": "code",
      "source": [
        "#data Wrangling\n",
        "#data\n",
        "#cleaning\n",
        "#validation\n",
        "#data structuring"
      ],
      "metadata": {
        "id": "OoQhmKJBzY_W"
      },
      "execution_count": 3,
      "outputs": []
    },
    {
      "cell_type": "code",
      "source": [
        "#EDA - Exploratory data Analysis\n",
        "#ETL - Extract Transforn and load (for strcuture data) , ELT - Extract Load and Transform (for unstructured or sem-structured data)\n",
        "#Feature Engineering\n",
        "#Data Normalization\n",
        "#Predective Modeling\n",
        "#Data Visualization"
      ],
      "metadata": {
        "id": "H3mnI0hIzsVv"
      },
      "execution_count": 4,
      "outputs": []
    },
    {
      "cell_type": "code",
      "source": [
        "#Steps\n",
        "#1 -  installation\n",
        "#2 - import"
      ],
      "metadata": {
        "id": "-eq1ZhQn2pd3"
      },
      "execution_count": 5,
      "outputs": []
    },
    {
      "cell_type": "code",
      "source": [
        "import pandas as pd\n",
        "print(pd.__version__)"
      ],
      "metadata": {
        "colab": {
          "base_uri": "https://localhost:8080/"
        },
        "id": "A7JDtW8R3g3G",
        "outputId": "d4a7869f-936c-47cf-c913-23f763384dc2"
      },
      "execution_count": 7,
      "outputs": [
        {
          "output_type": "stream",
          "name": "stdout",
          "text": [
            "1.5.3\n"
          ]
        }
      ]
    }
  ]
}